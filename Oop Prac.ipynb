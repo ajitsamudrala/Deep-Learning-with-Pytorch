{
 "cells": [
  {
   "cell_type": "code",
   "execution_count": 5,
   "metadata": {},
   "outputs": [],
   "source": [
    "from abc import ABC, abstractmethod "
   ]
  },
  {
   "cell_type": "code",
   "execution_count": 39,
   "metadata": {},
   "outputs": [],
   "source": [
    "class Employee(ABC):\n",
    "    employee_count=0\n",
    "    hike_percent=1.05\n",
    "    def __init__(self,first_name,last_name,age,salary):\n",
    "        self.first_name=first_name\n",
    "        self.last_name=last_name\n",
    "        self.age=age\n",
    "        self.salary=salary\n",
    "        self.email=self.first_name+'.'+self.last_name+'@sirius.com'\n",
    "        \n",
    "        Employee.employee_count+=1\n",
    "    @staticmethod\n",
    "    def emp_count():\n",
    "        print('Total number of employees in SiriusXm are {}'.format(Employee.employee_count))\n",
    "    @abstractmethod\n",
    "    def salary_hike(self):\n",
    "        pass"
   ]
  },
  {
   "cell_type": "code",
   "execution_count": 60,
   "metadata": {},
   "outputs": [],
   "source": [
    "class Developer(Employee):\n",
    "    hike_percent=1.08\n",
    "    def __init__(self,first_name,last_name,age,salary,technologies):\n",
    "        super().__init__(first_name,last_name,age,salary)\n",
    "        self.technologies=technologies\n",
    "    def salary_hike(self):\n",
    "        return(self.salary*max(self.hike_percent,Employee.hike_percent))\n",
    "    def emp_technology(self,technologies_in_demand):\n",
    "        for technology in self.technologies:\n",
    "            if technology in technologies_in_demand:\n",
    "                yield technology\n",
    "    def __str__(self):\n",
    "        return('{} is good in {} {}'.format(self.first_name,self.technologies[0],self.technologies[1]))\n",
    "    def __add__(self,other):\n",
    "        return(self.technologies+other.technologies)       "
   ]
  },
  {
   "cell_type": "code",
   "execution_count": 41,
   "metadata": {},
   "outputs": [],
   "source": [
    "class Manager(Employee):\n",
    "    hike_percent=1.2\n",
    "    def __init__(self,first_name,last_name,age,salary,no_of_employees):\n",
    "        super().__init__(first_name,last_name,age,salary)\n",
    "        self.no_of_employees=no_of_employees\n",
    "    def salary_hike(self):\n",
    "        return(self.salary*max(self.hike_percent,Employee.hike_percent))"
   ]
  },
  {
   "cell_type": "code",
   "execution_count": 61,
   "metadata": {},
   "outputs": [],
   "source": [
    "dev1=Developer('ajit','samudrala',25,50000,['python','Machine Learning','SQL','Tableau'])"
   ]
  },
  {
   "cell_type": "code",
   "execution_count": 62,
   "metadata": {},
   "outputs": [],
   "source": [
    "dev2=Developer('manohar','thumma',26,70000,['C','Jave','web development'])"
   ]
  },
  {
   "cell_type": "code",
   "execution_count": 44,
   "metadata": {},
   "outputs": [],
   "source": [
    "Man1=Developer('raghu','harsha',32,80000,15)"
   ]
  },
  {
   "cell_type": "code",
   "execution_count": 45,
   "metadata": {},
   "outputs": [
    {
     "data": {
      "text/plain": [
       "['python',\n",
       " 'Machine Learning',\n",
       " 'SQL',\n",
       " 'Tableau',\n",
       " 'C',\n",
       " 'Jave',\n",
       " 'web development']"
      ]
     },
     "execution_count": 45,
     "metadata": {},
     "output_type": "execute_result"
    }
   ],
   "source": [
    "dev1+dev2"
   ]
  },
  {
   "cell_type": "code",
   "execution_count": 46,
   "metadata": {},
   "outputs": [
    {
     "name": "stdout",
     "output_type": "stream",
     "text": [
      "ajit is good in python Machine Learning\n"
     ]
    }
   ],
   "source": [
    "print(dev1)"
   ]
  },
  {
   "cell_type": "code",
   "execution_count": 47,
   "metadata": {},
   "outputs": [
    {
     "data": {
      "text/plain": [
       "1.08"
      ]
     },
     "execution_count": 47,
     "metadata": {},
     "output_type": "execute_result"
    }
   ],
   "source": [
    "dev1.hike_percent"
   ]
  },
  {
   "cell_type": "code",
   "execution_count": 48,
   "metadata": {},
   "outputs": [
    {
     "data": {
      "text/plain": [
       "54000.0"
      ]
     },
     "execution_count": 48,
     "metadata": {},
     "output_type": "execute_result"
    }
   ],
   "source": [
    "dev1.salary_hike()"
   ]
  },
  {
   "cell_type": "code",
   "execution_count": 52,
   "metadata": {},
   "outputs": [
    {
     "data": {
      "text/plain": [
       "86400.0"
      ]
     },
     "execution_count": 52,
     "metadata": {},
     "output_type": "execute_result"
    }
   ],
   "source": [
    "Man1.salary_hike()"
   ]
  },
  {
   "cell_type": "code",
   "execution_count": 53,
   "metadata": {},
   "outputs": [
    {
     "data": {
      "text/plain": [
       "79800.0"
      ]
     },
     "execution_count": 53,
     "metadata": {},
     "output_type": "execute_result"
    }
   ],
   "source": [
    "76000*1.05"
   ]
  },
  {
   "cell_type": "code",
   "execution_count": 54,
   "metadata": {},
   "outputs": [
    {
     "name": "stdout",
     "output_type": "stream",
     "text": [
      "Total number of employees in SiriusXm are 3\n"
     ]
    }
   ],
   "source": [
    "Employee.emp_count()"
   ]
  },
  {
   "cell_type": "code",
   "execution_count": 66,
   "metadata": {},
   "outputs": [],
   "source": [
    "dev1_demand_tech=dev1.emp_technology(['Python','Machine Learning','Deep_Learning','AI'])"
   ]
  },
  {
   "cell_type": "code",
   "execution_count": 67,
   "metadata": {},
   "outputs": [
    {
     "name": "stdout",
     "output_type": "stream",
     "text": [
      "Machine Learning\n"
     ]
    }
   ],
   "source": [
    "for tech in dev1_demand_tech:\n",
    "    print(tech)"
   ]
  },
  {
   "cell_type": "code",
   "execution_count": 59,
   "metadata": {},
   "outputs": [
    {
     "data": {
      "text/plain": [
       "<generator object Developer.emp_technology at 0x0000024314CFBA40>"
      ]
     },
     "execution_count": 59,
     "metadata": {},
     "output_type": "execute_result"
    }
   ],
   "source": [
    "dev1_demand_tech"
   ]
  },
  {
   "cell_type": "code",
   "execution_count": null,
   "metadata": {},
   "outputs": [],
   "source": []
  }
 ],
 "metadata": {
  "kernelspec": {
   "display_name": "Python 3",
   "language": "python",
   "name": "python3"
  },
  "language_info": {
   "codemirror_mode": {
    "name": "ipython",
    "version": 3
   },
   "file_extension": ".py",
   "mimetype": "text/x-python",
   "name": "python",
   "nbconvert_exporter": "python",
   "pygments_lexer": "ipython3",
   "version": "3.6.2"
  }
 },
 "nbformat": 4,
 "nbformat_minor": 2
}
