{
 "cells": [
  {
   "cell_type": "code",
   "execution_count": 1,
   "metadata": {},
   "outputs": [],
   "source": [
    "import numpy as np\n",
    "import pandas as pd\n",
    "import torch\n",
    "import torch.utils.data as data_utils\n",
    "import torch.nn.functional as F\n",
    "import torch.nn as nn\n",
    "import os\n",
    "from sklearn.model_selection import train_test_split"
   ]
  },
  {
   "cell_type": "code",
   "execution_count": 2,
   "metadata": {},
   "outputs": [],
   "source": [
    "trainFile = \"C:/Users/ajit/Desktop/Problem_05.csv\"\n",
    "pwd = os.getcwd()\n",
    "os.chdir(os.path.dirname(trainFile))\n",
    "df=pd.read_csv(os.path.basename(trainFile), parse_dates=['Time'])"
   ]
  },
  {
   "cell_type": "code",
   "execution_count": 3,
   "metadata": {},
   "outputs": [],
   "source": [
    "df_1=df[(df['Turbine']==124) & df['NtfOk']==True]"
   ]
  },
  {
   "cell_type": "code",
   "execution_count": 4,
   "metadata": {},
   "outputs": [],
   "source": [
    "x=df_1[['RpmB','Energy','WindN']]\n",
    "y=df_1['WindMfs']"
   ]
  },
  {
   "cell_type": "code",
   "execution_count": 5,
   "metadata": {},
   "outputs": [],
   "source": [
    "X_train,X_test,y_train,y_test=train_test_split(np.array(x),np.array(y),random_state=5)"
   ]
  },
  {
   "cell_type": "code",
   "execution_count": 6,
   "metadata": {},
   "outputs": [],
   "source": [
    "X_tr,X_te,y_tr,y_te=torch.from_numpy(X_train),torch.from_numpy(X_test),torch.from_numpy(y_train.reshape(-1,1)),torch.from_numpy(y_test.reshape(-1,1))"
   ]
  },
  {
   "cell_type": "code",
   "execution_count": 7,
   "metadata": {},
   "outputs": [],
   "source": [
    "trainset=data_utils.TensorDataset(X_tr.float(),y_tr.float())\n",
    "trainloader=data_utils.DataLoader(trainset,batch_size=512,shuffle=True)\n",
    "testset=data_utils.TensorDataset(X_te.float(),y_te.float())\n",
    "testloader=data_utils.DataLoader(testset,batch_size=128)"
   ]
  },
  {
   "cell_type": "code",
   "execution_count": 32,
   "metadata": {},
   "outputs": [],
   "source": [
    "class pytorch_model(nn.Module):\n",
    "    \n",
    "    def __init__(self,input_size,first_size,second_size,third_size,output_size):\n",
    "        super().__init__()\n",
    "        self.fc1=nn.Linear(input_size,first_size)\n",
    "        self.fc2=nn.Linear(first_size,second_size)\n",
    "        self.fc3=nn.Linear(second_size,third_size)\n",
    "        self.fc4=nn.Linear(third_size,output_size)\n",
    "    def forward(self,x):\n",
    "        l1=F.relu(self.fc1(x))\n",
    "        l2=F.relu(self.fc2(l1))\n",
    "        l3=F.relu(self.fc3(l2))\n",
    "        out=self.fc4(l3)\n",
    "        return out"
   ]
  },
  {
   "cell_type": "code",
   "execution_count": 33,
   "metadata": {},
   "outputs": [],
   "source": [
    "model=pytorch_model(3,8,5,5,1)"
   ]
  },
  {
   "cell_type": "code",
   "execution_count": 34,
   "metadata": {},
   "outputs": [],
   "source": [
    "criteria=nn.MSELoss()\n",
    "optimizer=torch.optim.Adam(model.parameters(),lr=0.001)"
   ]
  },
  {
   "cell_type": "code",
   "execution_count": 35,
   "metadata": {},
   "outputs": [
    {
     "name": "stdout",
     "output_type": "stream",
     "text": [
      "[1,     8] loss: 45.269\n",
      "[1,    16] loss: 33.058\n",
      "[1,    24] loss: 23.900\n",
      "[1,    32] loss: 14.650\n",
      "[1,    40] loss: 9.941\n",
      "[2,     8] loss: 7.357\n",
      "[2,    16] loss: 6.315\n",
      "[2,    24] loss: 6.519\n",
      "[2,    32] loss: 6.698\n",
      "[2,    40] loss: 6.058\n",
      "[3,     8] loss: 5.861\n",
      "[3,    16] loss: 6.319\n",
      "[3,    24] loss: 5.926\n",
      "[3,    32] loss: 5.910\n",
      "[3,    40] loss: 5.628\n",
      "[4,     8] loss: 5.331\n",
      "[4,    16] loss: 5.461\n",
      "[4,    24] loss: 5.686\n",
      "[4,    32] loss: 5.343\n",
      "[4,    40] loss: 4.997\n",
      "[5,     8] loss: 4.937\n",
      "[5,    16] loss: 4.997\n",
      "[5,    24] loss: 4.656\n",
      "[5,    32] loss: 4.701\n",
      "[5,    40] loss: 3.977\n",
      "[6,     8] loss: 4.268\n",
      "[6,    16] loss: 3.985\n",
      "[6,    24] loss: 3.728\n",
      "[6,    32] loss: 3.750\n",
      "[6,    40] loss: 3.179\n",
      "[7,     8] loss: 3.241\n",
      "[7,    16] loss: 3.044\n",
      "[7,    24] loss: 2.762\n",
      "[7,    32] loss: 2.401\n",
      "[7,    40] loss: 2.773\n",
      "[8,     8] loss: 2.420\n",
      "[8,    16] loss: 2.572\n",
      "[8,    24] loss: 2.817\n",
      "[8,    32] loss: 2.290\n",
      "[8,    40] loss: 2.376\n",
      "[9,     8] loss: 2.459\n",
      "[9,    16] loss: 2.465\n",
      "[9,    24] loss: 2.194\n",
      "[9,    32] loss: 2.526\n",
      "[9,    40] loss: 2.198\n",
      "[10,     8] loss: 2.336\n",
      "[10,    16] loss: 2.123\n",
      "[10,    24] loss: 2.269\n",
      "[10,    32] loss: 2.259\n",
      "[10,    40] loss: 2.097\n",
      "Finished training\n"
     ]
    }
   ],
   "source": [
    "for epoch in range(10):\n",
    "    running_loss=0.0\n",
    "    for i,data in enumerate(trainloader):\n",
    "        inputs,labels=data\n",
    "        outputs=model(inputs)\n",
    "        loss=criteria(outputs,labels)\n",
    "        optimizer.zero_grad()\n",
    "        loss.backward()\n",
    "        optimizer.step()\n",
    "        \n",
    "        running_loss+=loss\n",
    "        if i %8==7:\n",
    "            print('[%d, %5d] loss: %.3f' % (epoch+1,i+1,running_loss/8))\n",
    "            running_loss=0.0\n",
    "print('Finished training')"
   ]
  },
  {
   "cell_type": "code",
   "execution_count": 37,
   "metadata": {},
   "outputs": [],
   "source": [
    "test_output=model(X_te.float())"
   ]
  },
  {
   "cell_type": "code",
   "execution_count": 41,
   "metadata": {},
   "outputs": [
    {
     "data": {
      "text/plain": [
       "tensor(2.2822)"
      ]
     },
     "execution_count": 41,
     "metadata": {},
     "output_type": "execute_result"
    }
   ],
   "source": [
    "(torch.sum((test_output-y_te.float())**2))/len(y_te)"
   ]
  },
  {
   "cell_type": "code",
   "execution_count": null,
   "metadata": {},
   "outputs": [],
   "source": []
  }
 ],
 "metadata": {
  "kernelspec": {
   "display_name": "Python 3",
   "language": "python",
   "name": "python3"
  },
  "language_info": {
   "codemirror_mode": {
    "name": "ipython",
    "version": 3
   },
   "file_extension": ".py",
   "mimetype": "text/x-python",
   "name": "python",
   "nbconvert_exporter": "python",
   "pygments_lexer": "ipython3",
   "version": "3.5.4"
  }
 },
 "nbformat": 4,
 "nbformat_minor": 2
}
